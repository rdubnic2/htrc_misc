{
 "cells": [
  {
   "cell_type": "code",
   "execution_count": 1,
   "metadata": {},
   "outputs": [],
   "source": [
    "import re\n",
    "import os\n",
    "import glob\n",
    "from collections import defaultdict\n",
    "from typing import List, TypeVar, Set, Iterator, Optional, Tuple, Dict\n",
    "\n",
    "from htrc.models import Page, PageStructure, HtrcPage\n",
    "from htrc.utils import clean_text, levenshtein, pairwise_combine_within_distance, flatten \n",
    "\n",
    "from htrc.runningheaders import parse_page_structure"
   ]
  },
  {
   "cell_type": "code",
   "execution_count": 69,
   "metadata": {},
   "outputs": [],
   "source": [
    "def load_vol(path: str, num_pages: int) -> List[HtrcPage]:\n",
    "    pages = []\n",
    "    py_num_pages = num_pages-1\n",
    "    for n in range(py_num_pages):\n",
    "        if n == 0:\n",
    "            n = 1\n",
    "            page_num = str(n).zfill(8)\n",
    "            with open('{}/{}.txt'.format(path, page_num), encoding='utf-8') as f:\n",
    "                lines = [line.rstrip() for line in f.readlines()]\n",
    "                pages.append(HtrcPage(lines))\n",
    "        else:\n",
    "            page_num = str(n).zfill(8)\n",
    "            with open('{}/{}.txt'.format(path, page_num), encoding='utf-8') as f:\n",
    "                lines = [line.rstrip() for line in f.readlines()]\n",
    "                pages.append(HtrcPage(lines))\n",
    "    \n",
    "    return pages"
   ]
  },
  {
   "cell_type": "code",
   "execution_count": 75,
   "metadata": {
    "scrolled": false
   },
   "outputs": [
    {
     "data": {
      "text/plain": [
       "['expanded/ark+=13960=t1sf9415m',\n",
       " 'expanded/ark+=13960=t1sf9415m3',\n",
       " 'expanded/ark+=13960=t1sf9415m2']"
      ]
     },
     "execution_count": 75,
     "metadata": {},
     "output_type": "execute_result"
    }
   ],
   "source": [
    "# UPDATE DIRECTORY: REPLACE 'EXPANDED' WITH THE NAME OF YOUR WORKSET FOLDER\n",
    "vol_path_list = glob.glob('expanded/*')\n",
    "\n",
    "vol_path_list"
   ]
  },
  {
   "cell_type": "code",
   "execution_count": 76,
   "metadata": {},
   "outputs": [
    {
     "name": "stdout",
     "output_type": "stream",
     "text": [
      "ark+=13960=t1sf9415m\n",
      "319\n",
      "ark+=13960=t1sf9415m3\n",
      "319\n",
      "ark+=13960=t1sf9415m2\n",
      "319\n"
     ]
    }
   ],
   "source": [
    "for vol_path in vol_path_list:\n",
    "    filename = vol_path.split('/', 1)[1]\n",
    "    print(filename)\n",
    "    file_count = len([f for f in os.listdir(vol_path) if f.endswith('.txt')])\n",
    "    print(file_count)\n",
    "    loaded_vol = load_vol(vol_path, file_count)\n",
    "    pages = parse_page_structure(loaded_vol)\n",
    "    with open(filename + '.txt', 'w') as f:\n",
    "        for n, page in enumerate(pages):\n",
    "            # print('.')\n",
    "            f.write(page.body + '\\n')"
   ]
  }
 ],
 "metadata": {
  "kernelspec": {
   "display_name": "Python 3",
   "language": "python",
   "name": "python3"
  },
  "language_info": {
   "codemirror_mode": {
    "name": "ipython",
    "version": 3
   },
   "file_extension": ".py",
   "mimetype": "text/x-python",
   "name": "python",
   "nbconvert_exporter": "python",
   "pygments_lexer": "ipython3",
   "version": "3.7.3"
  }
 },
 "nbformat": 4,
 "nbformat_minor": 2
}
