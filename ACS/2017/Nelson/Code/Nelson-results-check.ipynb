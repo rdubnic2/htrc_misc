{
 "cells": [
  {
   "cell_type": "code",
   "execution_count": 3,
   "metadata": {
    "collapsed": true
   },
   "outputs": [],
   "source": [
    "import pandas as pd\n",
    "import csv\n",
    "import numpy as np"
   ]
  },
  {
   "cell_type": "code",
   "execution_count": 8,
   "metadata": {
    "collapsed": false
   },
   "outputs": [
    {
     "ename": "FileNotFoundError",
     "evalue": "[Errno 2] No such file or directory: 'newyork_org_results_ln.csv'",
     "output_type": "error",
     "traceback": [
      "\u001b[0;31m---------------------------------------------------------------------------\u001b[0m",
      "\u001b[0;31mFileNotFoundError\u001b[0m                         Traceback (most recent call last)",
      "\u001b[0;32m<ipython-input-8-56b224b78ac3>\u001b[0m in \u001b[0;36m<module>\u001b[0;34m()\u001b[0m\n\u001b[0;32m----> 1\u001b[0;31m \u001b[0mny_org\u001b[0m \u001b[0;34m=\u001b[0m \u001b[0mopen\u001b[0m\u001b[0;34m(\u001b[0m\u001b[0;34m'newyork_org_results_ln.csv'\u001b[0m\u001b[0;34m,\u001b[0m\u001b[0;34m'r'\u001b[0m\u001b[0;34m,\u001b[0m \u001b[0mencoding\u001b[0m\u001b[0;34m=\u001b[0m\u001b[0;34m'latin1'\u001b[0m\u001b[0;34m)\u001b[0m\u001b[0;34m\u001b[0m\u001b[0m\n\u001b[0m\u001b[1;32m      2\u001b[0m \u001b[0mny_auth\u001b[0m \u001b[0;34m=\u001b[0m \u001b[0mopen\u001b[0m\u001b[0;34m(\u001b[0m\u001b[0;34m'newyork_author_results_ln.csv'\u001b[0m\u001b[0;34m,\u001b[0m\u001b[0;34m'r'\u001b[0m\u001b[0;34m,\u001b[0m \u001b[0mencoding\u001b[0m\u001b[0;34m=\u001b[0m\u001b[0;34m'latin1'\u001b[0m\u001b[0;34m)\u001b[0m\u001b[0;34m\u001b[0m\u001b[0m\n\u001b[1;32m      3\u001b[0m \u001b[0;34m\u001b[0m\u001b[0m\n\u001b[1;32m      4\u001b[0m \u001b[0mchi_org\u001b[0m \u001b[0;34m=\u001b[0m \u001b[0mopen\u001b[0m\u001b[0;34m(\u001b[0m\u001b[0;34m'chicago_org_results_ln.csv'\u001b[0m\u001b[0;34m,\u001b[0m\u001b[0;34m'r'\u001b[0m\u001b[0;34m,\u001b[0m \u001b[0mencoding\u001b[0m\u001b[0;34m=\u001b[0m\u001b[0;34m'latin1'\u001b[0m\u001b[0;34m)\u001b[0m\u001b[0;34m\u001b[0m\u001b[0m\n\u001b[1;32m      5\u001b[0m \u001b[0mchi_auth\u001b[0m \u001b[0;34m=\u001b[0m \u001b[0mopen\u001b[0m\u001b[0;34m(\u001b[0m\u001b[0;34m'chicago_names_results_ln.csv'\u001b[0m\u001b[0;34m,\u001b[0m\u001b[0;34m'r'\u001b[0m\u001b[0;34m,\u001b[0m \u001b[0mencoding\u001b[0m\u001b[0;34m=\u001b[0m\u001b[0;34m'latin1'\u001b[0m\u001b[0;34m)\u001b[0m\u001b[0;34m\u001b[0m\u001b[0m\n",
      "\u001b[0;31mFileNotFoundError\u001b[0m: [Errno 2] No such file or directory: 'newyork_org_results_ln.csv'"
     ]
    }
   ],
   "source": [
    "ny_org = open('newyork_org_results.csv','r', encoding='latin1')\n",
    "ny_auth = open('newyork_author_results.csv','r', encoding='latin1')\n",
    "\n",
    "chi_org = open('chicago_org_results.csv','r', encoding='latin1')\n",
    "chi_auth = open('chicago_names_results.csv','r', encoding='latin1')"
   ]
  },
  {
   "cell_type": "code",
   "execution_count": 7,
   "metadata": {
    "collapsed": false
   },
   "outputs": [
    {
     "data": {
      "text/html": [
       "<div>\n",
       "<table border=\"1\" class=\"dataframe\">\n",
       "  <thead>\n",
       "    <tr style=\"text-align: right;\">\n",
       "      <th></th>\n",
       "      <th>htid</th>\n",
       "      <th>title</th>\n",
       "      <th>org</th>\n",
       "    </tr>\n",
       "  </thead>\n",
       "  <tbody>\n",
       "    <tr>\n",
       "      <th>0</th>\n",
       "      <td>coo.31924001835820</td>\n",
       "      <td>The outside system of production in the women'...</td>\n",
       "      <td>International Ladies' Garment Workers' Union</td>\n",
       "    </tr>\n",
       "    <tr>\n",
       "      <th>1</th>\n",
       "      <td>coo.31924002005183</td>\n",
       "      <td>Know your schools, Tompkins County, New York</td>\n",
       "      <td>League of Women Voters of Tompkins County (Tom...</td>\n",
       "    </tr>\n",
       "    <tr>\n",
       "      <th>2</th>\n",
       "      <td>coo.31924002335606</td>\n",
       "      <td>Twenty-fifth anniversary testimonial to Harry ...</td>\n",
       "      <td>International Ladies' Garment Workers' Union L...</td>\n",
       "    </tr>\n",
       "    <tr>\n",
       "      <th>3</th>\n",
       "      <td>coo.31924002403206</td>\n",
       "      <td>Official report of the Strike committee, Chica...</td>\n",
       "      <td>Women's Trade Union League of Chicago</td>\n",
       "    </tr>\n",
       "    <tr>\n",
       "      <th>4</th>\n",
       "      <td>coo.31924003667635</td>\n",
       "      <td>Annual report</td>\n",
       "      <td>International Ladies' Garment Workers' Union U...</td>\n",
       "    </tr>\n",
       "  </tbody>\n",
       "</table>\n",
       "</div>"
      ],
      "text/plain": [
       "                 htid                                              title  \\\n",
       "0  coo.31924001835820  The outside system of production in the women'...   \n",
       "1  coo.31924002005183      Know your schools, Tompkins County, New York    \n",
       "2  coo.31924002335606  Twenty-fifth anniversary testimonial to Harry ...   \n",
       "3  coo.31924002403206  Official report of the Strike committee, Chica...   \n",
       "4  coo.31924003667635                                     Annual report    \n",
       "\n",
       "                                                 org  \n",
       "0      International Ladies' Garment Workers' Union   \n",
       "1  League of Women Voters of Tompkins County (Tom...  \n",
       "2  International Ladies' Garment Workers' Union L...  \n",
       "3             Women's Trade Union League of Chicago   \n",
       "4  International Ladies' Garment Workers' Union U...  "
      ]
     },
     "execution_count": 7,
     "metadata": {},
     "output_type": "execute_result"
    }
   ],
   "source": [
    "ny_org_df = pd.read_csv(ny_org)\n",
    "ny_org_df.head()\n"
   ]
  },
  {
   "cell_type": "code",
   "execution_count": 225,
   "metadata": {
    "collapsed": false
   },
   "outputs": [
    {
     "data": {
      "text/html": [
       "<div>\n",
       "<table border=\"1\" class=\"dataframe\">\n",
       "  <thead>\n",
       "    <tr style=\"text-align: right;\">\n",
       "      <th></th>\n",
       "      <th>htid</th>\n",
       "      <th>title</th>\n",
       "      <th>person</th>\n",
       "    </tr>\n",
       "  </thead>\n",
       "  <tbody>\n",
       "    <tr>\n",
       "      <th>0</th>\n",
       "      <td>ÂÃÃaeu.ark:/13960/t4dn5fd4r</td>\n",
       "      <td>Concerning children</td>\n",
       "      <td>Gilman, Charlotte Perkins 1860-1935</td>\n",
       "    </tr>\n",
       "    <tr>\n",
       "      <th>1</th>\n",
       "      <td>aeu.ark:/13960/t89g7140g</td>\n",
       "      <td>The social significance of modern drama</td>\n",
       "      <td>Goldman, Emma 1869-1940</td>\n",
       "    </tr>\n",
       "    <tr>\n",
       "      <th>2</th>\n",
       "      <td>chi.105719338</td>\n",
       "      <td>Psychology of the unconscious a study of the t...</td>\n",
       "      <td>Hinkle, Beatrice M.</td>\n",
       "    </tr>\n",
       "    <tr>\n",
       "      <th>3</th>\n",
       "      <td>aeu.ark:/13960/t89g7140g</td>\n",
       "      <td>The social significance of the modern drama</td>\n",
       "      <td>Goldman, Emma 1869-1940</td>\n",
       "    </tr>\n",
       "    <tr>\n",
       "      <th>4</th>\n",
       "      <td>aeu.ark:/13960/t4rj69w6s</td>\n",
       "      <td>The visioning a novel</td>\n",
       "      <td>Glaspell, Susan 1882-1948</td>\n",
       "    </tr>\n",
       "  </tbody>\n",
       "</table>\n",
       "</div>"
      ],
      "text/plain": [
       "                             htid  \\\n",
       "0  ÂÃÃaeu.ark:/13960/t4dn5fd4r   \n",
       "1        aeu.ark:/13960/t89g7140g   \n",
       "2                   chi.105719338   \n",
       "3        aeu.ark:/13960/t89g7140g   \n",
       "4        aeu.ark:/13960/t4rj69w6s   \n",
       "\n",
       "                                               title  \\\n",
       "0                               Concerning children    \n",
       "1           The social significance of modern drama    \n",
       "2  Psychology of the unconscious a study of the t...   \n",
       "3       The social significance of the modern drama    \n",
       "4                             The visioning a novel    \n",
       "\n",
       "                                 person  \n",
       "0  Gilman, Charlotte Perkins 1860-1935   \n",
       "1              Goldman, Emma 1869-1940   \n",
       "2                  Hinkle, Beatrice M.   \n",
       "3              Goldman, Emma 1869-1940   \n",
       "4            Glaspell, Susan 1882-1948   "
      ]
     },
     "execution_count": 225,
     "metadata": {},
     "output_type": "execute_result"
    }
   ],
   "source": [
    "ny_auth_df = pd.read_csv(ny_auth, encoding='latin1')\n",
    "ny_auth_df.head()\n"
   ]
  },
  {
   "cell_type": "code",
   "execution_count": 226,
   "metadata": {
    "collapsed": false
   },
   "outputs": [
    {
     "data": {
      "text/html": [
       "<div>\n",
       "<table border=\"1\" class=\"dataframe\">\n",
       "  <thead>\n",
       "    <tr style=\"text-align: right;\">\n",
       "      <th></th>\n",
       "      <th>htid</th>\n",
       "      <th>title</th>\n",
       "      <th>org</th>\n",
       "    </tr>\n",
       "  </thead>\n",
       "  <tbody>\n",
       "    <tr>\n",
       "      <th>0</th>\n",
       "      <td>ÂÃÃcoo.31924002005183</td>\n",
       "      <td>Know your schools, Tompkins County, New York</td>\n",
       "      <td>League of Women Voters of Tompkins County (Tom...</td>\n",
       "    </tr>\n",
       "    <tr>\n",
       "      <th>1</th>\n",
       "      <td>coo.31924002334971</td>\n",
       "      <td>Anniversary journal, on the occasion of the ce...</td>\n",
       "      <td>Amalgamated Clothing Workers of America, Local...</td>\n",
       "    </tr>\n",
       "    <tr>\n",
       "      <th>2</th>\n",
       "      <td>coo.31924000810220</td>\n",
       "      <td>Proceedings of the ... Biennial Convention of ...</td>\n",
       "      <td>Amalgamated Clothing Workers of America Conven...</td>\n",
       "    </tr>\n",
       "    <tr>\n",
       "      <th>3</th>\n",
       "      <td>coo.31924002403206</td>\n",
       "      <td>Official report of the Strike committee, Chica...</td>\n",
       "      <td>Women's Trade Union League of Chicago</td>\n",
       "    </tr>\n",
       "    <tr>\n",
       "      <th>4</th>\n",
       "      <td>coo.31924001734064</td>\n",
       "      <td>Resolutions and proceedings 1977 convention of...</td>\n",
       "      <td>Coalition of Labor Union Women Convention, Was...</td>\n",
       "    </tr>\n",
       "  </tbody>\n",
       "</table>\n",
       "</div>"
      ],
      "text/plain": [
       "                       htid  \\\n",
       "0  ÂÃÃcoo.31924002005183   \n",
       "1        coo.31924002334971   \n",
       "2        coo.31924000810220   \n",
       "3        coo.31924002403206   \n",
       "4        coo.31924001734064   \n",
       "\n",
       "                                               title  \\\n",
       "0      Know your schools, Tompkins County, New York    \n",
       "1  Anniversary journal, on the occasion of the ce...   \n",
       "2  Proceedings of the ... Biennial Convention of ...   \n",
       "3  Official report of the Strike committee, Chica...   \n",
       "4  Resolutions and proceedings 1977 convention of...   \n",
       "\n",
       "                                                 org  \n",
       "0  League of Women Voters of Tompkins County (Tom...  \n",
       "1  Amalgamated Clothing Workers of America, Local...  \n",
       "2  Amalgamated Clothing Workers of America Conven...  \n",
       "3             Women's Trade Union League of Chicago   \n",
       "4  Coalition of Labor Union Women Convention, Was...  "
      ]
     },
     "execution_count": 226,
     "metadata": {},
     "output_type": "execute_result"
    }
   ],
   "source": [
    "chi_org_df = pd.read_csv(chi_org, encoding='latin1')\n",
    "chi_org_df.head()\n"
   ]
  },
  {
   "cell_type": "code",
   "execution_count": 227,
   "metadata": {
    "collapsed": false
   },
   "outputs": [
    {
     "data": {
      "text/html": [
       "<div>\n",
       "<table border=\"1\" class=\"dataframe\">\n",
       "  <thead>\n",
       "    <tr style=\"text-align: right;\">\n",
       "      <th></th>\n",
       "      <th>htid</th>\n",
       "      <th>title</th>\n",
       "      <th>person</th>\n",
       "    </tr>\n",
       "  </thead>\n",
       "  <tbody>\n",
       "    <tr>\n",
       "      <th>0</th>\n",
       "      <td>ÂÃÃcoo.31924003252073</td>\n",
       "      <td>Studies in protein and amino acid nutrition us...</td>\n",
       "      <td>Anderson, Mary Eldrid 1926-</td>\n",
       "    </tr>\n",
       "    <tr>\n",
       "      <th>1</th>\n",
       "      <td>coo.31924014531028</td>\n",
       "      <td>The Child, the clinic and the court</td>\n",
       "      <td>Addams, Jane 1860-1935</td>\n",
       "    </tr>\n",
       "    <tr>\n",
       "      <th>2</th>\n",
       "      <td>coo1.ark:/13960/t05x2w09h</td>\n",
       "      <td>A summary of juvenile-court legislation in the...</td>\n",
       "      <td>Breckinridge, Sophonisba Preston 1866-1948</td>\n",
       "    </tr>\n",
       "    <tr>\n",
       "      <th>3</th>\n",
       "      <td>coo1.ark:/13960/t0ks78j5j</td>\n",
       "      <td>The delinquent child and the home</td>\n",
       "      <td>Abbott, Edith 1876-1957</td>\n",
       "    </tr>\n",
       "    <tr>\n",
       "      <th>4</th>\n",
       "      <td>coo.31924003585589</td>\n",
       "      <td>Windowless offices user satisfaction and adapt...</td>\n",
       "      <td>Anderson, Mary Ann 1940-</td>\n",
       "    </tr>\n",
       "  </tbody>\n",
       "</table>\n",
       "</div>"
      ],
      "text/plain": [
       "                        htid  \\\n",
       "0   ÂÃÃcoo.31924003252073   \n",
       "1         coo.31924014531028   \n",
       "2  coo1.ark:/13960/t05x2w09h   \n",
       "3  coo1.ark:/13960/t0ks78j5j   \n",
       "4         coo.31924003585589   \n",
       "\n",
       "                                               title  \\\n",
       "0  Studies in protein and amino acid nutrition us...   \n",
       "1               The Child, the clinic and the court    \n",
       "2  A summary of juvenile-court legislation in the...   \n",
       "3                 The delinquent child and the home    \n",
       "4  Windowless offices user satisfaction and adapt...   \n",
       "\n",
       "                                        person  \n",
       "0                 Anderson, Mary Eldrid 1926-   \n",
       "1                      Addams, Jane 1860-1935   \n",
       "2  Breckinridge, Sophonisba Preston 1866-1948   \n",
       "3                     Abbott, Edith 1876-1957   \n",
       "4                    Anderson, Mary Ann 1940-   "
      ]
     },
     "execution_count": 227,
     "metadata": {},
     "output_type": "execute_result"
    }
   ],
   "source": [
    "chi_auth_df = pd.read_csv(chi_auth, encoding='latin1')\n",
    "chi_auth_df.head()\n"
   ]
  },
  {
   "cell_type": "code",
   "execution_count": null,
   "metadata": {
    "collapsed": true
   },
   "outputs": [],
   "source": []
  },
  {
   "cell_type": "code",
   "execution_count": 228,
   "metadata": {
    "collapsed": false
   },
   "outputs": [
    {
     "data": {
      "text/html": [
       "<div>\n",
       "<table border=\"1\" class=\"dataframe\">\n",
       "  <thead>\n",
       "    <tr style=\"text-align: right;\">\n",
       "      <th></th>\n",
       "      <th>htid</th>\n",
       "      <th>title</th>\n",
       "      <th>org</th>\n",
       "    </tr>\n",
       "  </thead>\n",
       "  <tbody>\n",
       "    <tr>\n",
       "      <th>0</th>\n",
       "      <td>coo.31924001835820</td>\n",
       "      <td>The outside system of production in the women'...</td>\n",
       "      <td>International Ladies' Garment Workers' Union</td>\n",
       "    </tr>\n",
       "    <tr>\n",
       "      <th>1</th>\n",
       "      <td>coo.31924002005183</td>\n",
       "      <td>Know your schools, Tompkins County, New York</td>\n",
       "      <td>League of Women Voters of Tompkins County (Tom...</td>\n",
       "    </tr>\n",
       "    <tr>\n",
       "      <th>2</th>\n",
       "      <td>coo.31924002335606</td>\n",
       "      <td>Twenty-fifth anniversary testimonial to Harry ...</td>\n",
       "      <td>International Ladies' Garment Workers' Union L...</td>\n",
       "    </tr>\n",
       "    <tr>\n",
       "      <th>3</th>\n",
       "      <td>coo.31924002403206</td>\n",
       "      <td>Official report of the Strike committee, Chica...</td>\n",
       "      <td>Women's Trade Union League of Chicago</td>\n",
       "    </tr>\n",
       "    <tr>\n",
       "      <th>4</th>\n",
       "      <td>coo.31924003667635</td>\n",
       "      <td>Annual report</td>\n",
       "      <td>International Ladies' Garment Workers' Union U...</td>\n",
       "    </tr>\n",
       "  </tbody>\n",
       "</table>\n",
       "</div>"
      ],
      "text/plain": [
       "                 htid                                              title  \\\n",
       "0  coo.31924001835820  The outside system of production in the women'...   \n",
       "1  coo.31924002005183      Know your schools, Tompkins County, New York    \n",
       "2  coo.31924002335606  Twenty-fifth anniversary testimonial to Harry ...   \n",
       "3  coo.31924002403206  Official report of the Strike committee, Chica...   \n",
       "4  coo.31924003667635                                     Annual report    \n",
       "\n",
       "                                                 org  \n",
       "0      International Ladies' Garment Workers' Union   \n",
       "1  League of Women Voters of Tompkins County (Tom...  \n",
       "2  International Ladies' Garment Workers' Union L...  \n",
       "3             Women's Trade Union League of Chicago   \n",
       "4  International Ladies' Garment Workers' Union U...  "
      ]
     },
     "execution_count": 228,
     "metadata": {},
     "output_type": "execute_result"
    }
   ],
   "source": [
    "ny_org_df.head()"
   ]
  },
  {
   "cell_type": "code",
   "execution_count": 229,
   "metadata": {
    "collapsed": false
   },
   "outputs": [],
   "source": [
    "nelson_ny_org = open('nelson-ny-orgs.csv','r')\n",
    "nelson_ny_org_df = pd.read_csv(nelson_ny_org)\n",
    "# nelson_ny_orgs_df.head()\n",
    "\n",
    "nelson_ny_auth = open('nelson-ny-auth.csv')\n",
    "nelson_ny_auth_df = pd.read_csv(nelson_ny_auth)\n",
    "# nelson_ny_auth_df.head()\n",
    "\n",
    "\n",
    "nelson_chi_org = open('nelson-chi-orgs.csv','r')\n",
    "nelson_chi_org_df = pd.read_csv(nelson_chi_org)\n",
    "# nelson_chi_orgs_df.head()\n",
    "\n",
    "nelson_chi_auth = open('nelson-chi-auth.csv','r', encoding='latin1')\n",
    "nelson_chi_auth_df = pd.read_csv(nelson_chi_auth)\n",
    "# nelson_chi_auth_df.head()"
   ]
  },
  {
   "cell_type": "code",
   "execution_count": 183,
   "metadata": {
    "collapsed": false
   },
   "outputs": [
    {
     "data": {
      "text/html": [
       "<div>\n",
       "<table border=\"1\" class=\"dataframe\">\n",
       "  <thead>\n",
       "    <tr style=\"text-align: right;\">\n",
       "      <th></th>\n",
       "      <th>Organization</th>\n",
       "      <th>Dates</th>\n",
       "      <th>Publication</th>\n",
       "    </tr>\n",
       "  </thead>\n",
       "  <tbody>\n",
       "    <tr>\n",
       "      <th>0</th>\n",
       "      <td>Sorosis</td>\n",
       "      <td>1868 -</td>\n",
       "      <td>NaN</td>\n",
       "    </tr>\n",
       "    <tr>\n",
       "      <th>1</th>\n",
       "      <td>New York State Woman Suffrage Association</td>\n",
       "      <td>1869- 1920</td>\n",
       "      <td>NaN</td>\n",
       "    </tr>\n",
       "    <tr>\n",
       "      <th>2</th>\n",
       "      <td>Brooklyn Woman Suffrage Association</td>\n",
       "      <td>1869 - ?</td>\n",
       "      <td>NaN</td>\n",
       "    </tr>\n",
       "    <tr>\n",
       "      <th>3</th>\n",
       "      <td>Neighborhood Guild/University Settlement</td>\n",
       "      <td>1886 -</td>\n",
       "      <td>NaN</td>\n",
       "    </tr>\n",
       "    <tr>\n",
       "      <th>4</th>\n",
       "      <td>Lily Pleasure Club/Neighborhood Club</td>\n",
       "      <td>1886 - ?</td>\n",
       "      <td>NaN</td>\n",
       "    </tr>\n",
       "  </tbody>\n",
       "</table>\n",
       "</div>"
      ],
      "text/plain": [
       "                                Organization       Dates Publication\n",
       "0                                    Sorosis      1868 -         NaN\n",
       "1  New York State Woman Suffrage Association  1869- 1920         NaN\n",
       "2        Brooklyn Woman Suffrage Association    1869 - ?         NaN\n",
       "3   Neighborhood Guild/University Settlement      1886 -         NaN\n",
       "4       Lily Pleasure Club/Neighborhood Club    1886 - ?         NaN"
      ]
     },
     "execution_count": 183,
     "metadata": {},
     "output_type": "execute_result"
    }
   ],
   "source": [
    "nelson_ny_orgs_df.head()"
   ]
  },
  {
   "cell_type": "code",
   "execution_count": 234,
   "metadata": {
    "collapsed": false,
    "scrolled": true
   },
   "outputs": [
    {
     "name": "stdout",
     "output_type": "stream",
     "text": [
      "NY orgs asked for: 72\n",
      "NY authors asked for: 70\n",
      "CHI orgs asked for: 52\n",
      "CHI authors asked for: 85\n"
     ]
    }
   ],
   "source": [
    "nelson_ny_org_list = pd.Series.tolist(nelson_ny_org_df['Organization'])\n",
    "nelson_ny_auth_list = pd.Series.tolist(nelson_ny_auth_df['Person'])\n",
    "nelson_chi_auth_list = pd.Series.tolist(nelson_chi_org_df['Organization'])\n",
    "nelson_chi_org_list = pd.Series.tolist(nelson_chi_auth_df['Person'])\n",
    "\n",
    "\n",
    "print('NY orgs asked for:', len(nelson_ny_org_list))\n",
    "print('NY authors asked for:', len(nelson_ny_auth_list))\n",
    "print('CHI orgs asked for:', len(nelson_chi_org_list))\n",
    "print('CHI authors asked for:', len(nelson_chi_auth_list))"
   ]
  },
  {
   "cell_type": "code",
   "execution_count": 233,
   "metadata": {
    "collapsed": false,
    "scrolled": true
   },
   "outputs": [
    {
     "name": "stdout",
     "output_type": "stream",
     "text": [
      "NY orgs found: 1844\n",
      "NY authors found: 70\n",
      "CHI orgs found: 678\n",
      "CHI authors found: 1667\n"
     ]
    }
   ],
   "source": [
    "ny_org_list = pd.Series.tolist(ny_org_df['org'])\n",
    "ny_auth_list = pd.Series.tolist(ny_auth_df['person'])\n",
    "chi_auth_list = pd.Series.tolist(chi_org_df['org'])\n",
    "chi_org_list = pd.Series.tolist(chi_auth_df['person'])\n",
    "\n",
    "\n",
    "print('NY orgs found:', len(ny_org_list))\n",
    "print('NY authors found:', len(nelson_ny_auth_list))\n",
    "print('CHI orgs found:', len(chi_org_list))\n",
    "print('CHI authors found:', len(chi_auth_list))"
   ]
  },
  {
   "cell_type": "code",
   "execution_count": null,
   "metadata": {
    "collapsed": false
   },
   "outputs": [],
   "source": []
  },
  {
   "cell_type": "code",
   "execution_count": null,
   "metadata": {
    "collapsed": false,
    "scrolled": true
   },
   "outputs": [],
   "source": []
  },
  {
   "cell_type": "code",
   "execution_count": 91,
   "metadata": {
    "collapsed": false
   },
   "outputs": [],
   "source": [
    "ny_org_miss = []\n",
    "ny_auth_miss = []\n",
    "chi_org_miss = []\n",
    "chi_auth_miss = []\n",
    "\n",
    "for org in nelson_ny_org_list:\n",
    "    if org not in ny_org_set:\n",
    "        ny_org_miss.append(org)\n"
   ]
  },
  {
   "cell_type": "code",
   "execution_count": 136,
   "metadata": {
    "collapsed": false,
    "scrolled": false
   },
   "outputs": [
    {
     "name": "stdout",
     "output_type": "stream",
     "text": [
      "72\n"
     ]
    }
   ],
   "source": [
    "print(len(ny_org_miss))\n",
    "\n",
    "# ny_org_miss"
   ]
  },
  {
   "cell_type": "code",
   "execution_count": 135,
   "metadata": {
    "collapsed": false
   },
   "outputs": [],
   "source": [
    "# ny_org_set"
   ]
  },
  {
   "cell_type": "code",
   "execution_count": null,
   "metadata": {
    "collapsed": true
   },
   "outputs": [],
   "source": []
  },
  {
   "cell_type": "code",
   "execution_count": 230,
   "metadata": {
    "collapsed": false
   },
   "outputs": [
    {
     "name": "stdout",
     "output_type": "stream",
     "text": [
      "209\n"
     ]
    }
   ],
   "source": [
    "ny_org_dict = {}\n",
    "\n",
    "for i in ny_org_df.index:\n",
    "    org = ny_org_df['org'][i]\n",
    "    if org in nelson_ny_org_list:\n",
    "        ny_org_dict[org] += 1\n",
    "    elif org in ny_org_dict:\n",
    "        ny_org_dict[org] += 1\n",
    "    else:\n",
    "        ny_org_dict[org] = 1\n",
    "\n",
    "print(len(ny_org_dict))"
   ]
  },
  {
   "cell_type": "code",
   "execution_count": 231,
   "metadata": {
    "collapsed": false
   },
   "outputs": [
    {
     "name": "stdout",
     "output_type": "stream",
     "text": [
      "280\n"
     ]
    }
   ],
   "source": [
    "for i in nelson_ny_org_df.index:\n",
    "    org = nelson_ny_org_df['Organization'][i]\n",
    "    if org not in ny_org_dict:\n",
    "        ny_org_dict[org] = 0\n",
    "\n",
    "print(len(ny_org_dict))"
   ]
  },
  {
   "cell_type": "code",
   "execution_count": 238,
   "metadata": {
    "collapsed": false,
    "scrolled": false
   },
   "outputs": [
    {
     "name": "stdout",
     "output_type": "stream",
     "text": [
      "84\n"
     ]
    }
   ],
   "source": [
    "ny_auth_dict = {}\n",
    "\n",
    "for i in ny_auth_df.index:\n",
    "    auth = ny_auth_df['person'][i]\n",
    "    if auth in nelson_ny_auth_list:\n",
    "        ny_auth_dict[auth] += 1\n",
    "    elif auth in ny_auth_dict:\n",
    "        ny_auth_dict[auth] += 1\n",
    "    else:\n",
    "        ny_auth_dict[auth] = 1\n",
    "        \n",
    "print(len(ny_auth_dict))"
   ]
  },
  {
   "cell_type": "code",
   "execution_count": 239,
   "metadata": {
    "collapsed": false
   },
   "outputs": [
    {
     "name": "stdout",
     "output_type": "stream",
     "text": [
      "154\n"
     ]
    }
   ],
   "source": [
    "for i in nelson_ny_auth_df.index:\n",
    "    org = nelson_ny_auth_df['Person'][i]\n",
    "    if org not in ny_auth_dict:\n",
    "        ny_auth_dict[org] = 0\n",
    "\n",
    "print(len(ny_auth_dict))"
   ]
  },
  {
   "cell_type": "code",
   "execution_count": 241,
   "metadata": {
    "collapsed": false
   },
   "outputs": [
    {
     "name": "stdout",
     "output_type": "stream",
     "text": [
      "282\n"
     ]
    }
   ],
   "source": [
    "chi_org_dict = {}\n",
    "\n",
    "for i in chi_org_df.index:\n",
    "    org = chi_org_df['org'][i]\n",
    "    if org in nelson_chi_org_list:\n",
    "        chi_org_dict[org] += 1\n",
    "    elif org in chi_org_dict:\n",
    "        chi_org_dict[org] += 1\n",
    "    else:\n",
    "        chi_org_dict[org] = 1\n",
    "        \n",
    "print(len(chi_org_dict))"
   ]
  },
  {
   "cell_type": "code",
   "execution_count": 242,
   "metadata": {
    "collapsed": false
   },
   "outputs": [
    {
     "name": "stdout",
     "output_type": "stream",
     "text": [
      "366\n"
     ]
    }
   ],
   "source": [
    "for i in nelson_chi_org_df.index:\n",
    "    org = nelson_chi_org_df['Organization'][i]\n",
    "    if org not in chi_org_dict:\n",
    "        chi_org_dict[org] = 0\n",
    "\n",
    "print(len(chi_org_dict))"
   ]
  },
  {
   "cell_type": "code",
   "execution_count": 244,
   "metadata": {
    "collapsed": false
   },
   "outputs": [
    {
     "name": "stdout",
     "output_type": "stream",
     "text": [
      "86\n"
     ]
    }
   ],
   "source": [
    "chi_auth_dict = {}\n",
    "\n",
    "for i in chi_auth_df.index:\n",
    "    auth = chi_auth_df['person'][i]\n",
    "    if auth in nelson_chi_auth_list:\n",
    "        chi_auth_dict[auth] += 1\n",
    "    elif auth in chi_auth_dict:\n",
    "        chi_auth_dict[auth] += 1\n",
    "    else:\n",
    "        chi_auth_dict[auth] = 1\n",
    "        \n",
    "print(len(chi_auth_dict))"
   ]
  },
  {
   "cell_type": "code",
   "execution_count": 245,
   "metadata": {
    "collapsed": false
   },
   "outputs": [
    {
     "name": "stdout",
     "output_type": "stream",
     "text": [
      "137\n"
     ]
    }
   ],
   "source": [
    "for i in nelson_chi_auth_df.index:\n",
    "    auth = nelson_chi_auth_df['Person'][i]\n",
    "    if auth not in chi_auth_dict:\n",
    "        chi_auth_dict[auth] = 0\n",
    "\n",
    "print(len(chi_auth_dict))"
   ]
  },
  {
   "cell_type": "code",
   "execution_count": 250,
   "metadata": {
    "collapsed": false
   },
   "outputs": [
    {
     "data": {
      "text/html": [
       "<div>\n",
       "<table border=\"1\" class=\"dataframe\">\n",
       "  <thead>\n",
       "    <tr style=\"text-align: right;\">\n",
       "      <th></th>\n",
       "      <th>ny org</th>\n",
       "      <th>count</th>\n",
       "    </tr>\n",
       "  </thead>\n",
       "  <tbody>\n",
       "    <tr>\n",
       "      <th>238</th>\n",
       "      <td>Birth Control League</td>\n",
       "      <td>0</td>\n",
       "    </tr>\n",
       "    <tr>\n",
       "      <th>229</th>\n",
       "      <td>Brooklyn Woman Suffrage Association</td>\n",
       "      <td>0</td>\n",
       "    </tr>\n",
       "    <tr>\n",
       "      <th>175</th>\n",
       "      <td>Brooklyn Woman's Health Protective Association</td>\n",
       "      <td>0</td>\n",
       "    </tr>\n",
       "    <tr>\n",
       "      <th>98</th>\n",
       "      <td>College Settlement/University Settlement</td>\n",
       "      <td>0</td>\n",
       "    </tr>\n",
       "    <tr>\n",
       "      <th>17</th>\n",
       "      <td>Communist Party</td>\n",
       "      <td>0</td>\n",
       "    </tr>\n",
       "  </tbody>\n",
       "</table>\n",
       "</div>"
      ],
      "text/plain": [
       "                                             ny org  count\n",
       "238                            Birth Control League      0\n",
       "229             Brooklyn Woman Suffrage Association      0\n",
       "175  Brooklyn Woman's Health Protective Association      0\n",
       "98         College Settlement/University Settlement      0\n",
       "17                                  Communist Party      0"
      ]
     },
     "execution_count": 250,
     "metadata": {},
     "output_type": "execute_result"
    }
   ],
   "source": [
    "ny_org_results = pd.DataFrame.from_dict(ny_org_dict, orient='index')\n",
    "ny_org_results = ny_org_results.reset_index()\n",
    "ny_org_results.columns = ['ny org','count']\n",
    "ny_org_results = ny_org_results.sort_values('ny org', ascending=True)\n",
    "ny_org_results.to_csv('ny_org_results_check.csv')\n",
    "ny_org_results.head()"
   ]
  },
  {
   "cell_type": "code",
   "execution_count": 208,
   "metadata": {
    "collapsed": false
   },
   "outputs": [
    {
     "data": {
      "text/plain": [
       "'ny org'"
      ]
     },
     "execution_count": 208,
     "metadata": {},
     "output_type": "execute_result"
    }
   ],
   "source": []
  },
  {
   "cell_type": "code",
   "execution_count": 251,
   "metadata": {
    "collapsed": false
   },
   "outputs": [
    {
     "data": {
      "text/html": [
       "<div>\n",
       "<table border=\"1\" class=\"dataframe\">\n",
       "  <thead>\n",
       "    <tr style=\"text-align: right;\">\n",
       "      <th></th>\n",
       "      <th>ny person</th>\n",
       "      <th>count</th>\n",
       "    </tr>\n",
       "  </thead>\n",
       "  <tbody>\n",
       "    <tr>\n",
       "      <th>10</th>\n",
       "      <td>Ann Forer</td>\n",
       "      <td>0</td>\n",
       "    </tr>\n",
       "    <tr>\n",
       "      <th>65</th>\n",
       "      <td>Ann Snitow</td>\n",
       "      <td>0</td>\n",
       "    </tr>\n",
       "    <tr>\n",
       "      <th>143</th>\n",
       "      <td>Anne Koedt</td>\n",
       "      <td>0</td>\n",
       "    </tr>\n",
       "    <tr>\n",
       "      <th>37</th>\n",
       "      <td>Anthony, Katherine</td>\n",
       "      <td>0</td>\n",
       "    </tr>\n",
       "    <tr>\n",
       "      <th>51</th>\n",
       "      <td>Anthony, Katherine M. (Katherine Miner)</td>\n",
       "      <td>1</td>\n",
       "    </tr>\n",
       "  </tbody>\n",
       "</table>\n",
       "</div>"
      ],
      "text/plain": [
       "                                    ny person  count\n",
       "10                                  Ann Forer      0\n",
       "65                                 Ann Snitow      0\n",
       "143                                Anne Koedt      0\n",
       "37                        Anthony, Katherine       0\n",
       "51   Anthony, Katherine M. (Katherine Miner)       1"
      ]
     },
     "execution_count": 251,
     "metadata": {},
     "output_type": "execute_result"
    }
   ],
   "source": [
    "ny_auth_results = pd.DataFrame.from_dict(ny_auth_dict, orient='index')\n",
    "ny_auth_results = ny_auth_results.reset_index()\n",
    "ny_auth_results.columns = ['ny person','count']\n",
    "ny_auth_results = ny_auth_results.sort_values('ny person', ascending=True)\n",
    "ny_auth_results.to_csv('ny_auth_results_check.csv')\n",
    "ny_auth_results.head()\n"
   ]
  },
  {
   "cell_type": "code",
   "execution_count": 252,
   "metadata": {
    "collapsed": false
   },
   "outputs": [
    {
     "data": {
      "text/html": [
       "<div>\n",
       "<table border=\"1\" class=\"dataframe\">\n",
       "  <thead>\n",
       "    <tr style=\"text-align: right;\">\n",
       "      <th></th>\n",
       "      <th>chicago org</th>\n",
       "      <th>count</th>\n",
       "    </tr>\n",
       "  </thead>\n",
       "  <tbody>\n",
       "    <tr>\n",
       "      <th>156</th>\n",
       "      <td>AFL Ladies' Federal Union</td>\n",
       "      <td>0</td>\n",
       "    </tr>\n",
       "    <tr>\n",
       "      <th>365</th>\n",
       "      <td>Alpha Suffrage Club</td>\n",
       "      <td>0</td>\n",
       "    </tr>\n",
       "    <tr>\n",
       "      <th>363</th>\n",
       "      <td>Amalgamated Clothing Workers of America</td>\n",
       "      <td>0</td>\n",
       "    </tr>\n",
       "    <tr>\n",
       "      <th>331</th>\n",
       "      <td>Amalgamated Clothing Workers of America</td>\n",
       "      <td>86</td>\n",
       "    </tr>\n",
       "    <tr>\n",
       "      <th>341</th>\n",
       "      <td>Amalgamated Clothing Workers of America Board ...</td>\n",
       "      <td>1</td>\n",
       "    </tr>\n",
       "  </tbody>\n",
       "</table>\n",
       "</div>"
      ],
      "text/plain": [
       "                                           chicago org  count\n",
       "156                          AFL Ladies' Federal Union      0\n",
       "365                                Alpha Suffrage Club      0\n",
       "363            Amalgamated Clothing Workers of America      0\n",
       "331           Amalgamated Clothing Workers of America      86\n",
       "341  Amalgamated Clothing Workers of America Board ...      1"
      ]
     },
     "execution_count": 252,
     "metadata": {},
     "output_type": "execute_result"
    }
   ],
   "source": [
    "chi_org_results = pd.DataFrame.from_dict(chi_org_dict, orient='index')\n",
    "chi_org_results = chi_org_results.reset_index()\n",
    "chi_org_results.columns = ['chicago org','count']\n",
    "chi_org_results = chi_org_results.sort_values('chicago org', ascending=True)\n",
    "chi_org_results.to_csv('chi_org_results_check.csv')\n",
    "chi_org_results.head()"
   ]
  },
  {
   "cell_type": "code",
   "execution_count": 253,
   "metadata": {
    "collapsed": false
   },
   "outputs": [
    {
     "data": {
      "text/html": [
       "<div>\n",
       "<table border=\"1\" class=\"dataframe\">\n",
       "  <thead>\n",
       "    <tr style=\"text-align: right;\">\n",
       "      <th></th>\n",
       "      <th>chicago person</th>\n",
       "      <th>count</th>\n",
       "    </tr>\n",
       "  </thead>\n",
       "  <tbody>\n",
       "    <tr>\n",
       "      <th>121</th>\n",
       "      <td>Elizabeth Gurley Flynn</td>\n",
       "      <td>0</td>\n",
       "    </tr>\n",
       "    <tr>\n",
       "      <th>78</th>\n",
       "      <td>Abbott, Edith 1876-1957</td>\n",
       "      <td>96</td>\n",
       "    </tr>\n",
       "    <tr>\n",
       "      <th>17</th>\n",
       "      <td>Abbott, Edith 1876-1957. [from old catalog]</td>\n",
       "      <td>1</td>\n",
       "    </tr>\n",
       "    <tr>\n",
       "      <th>132</th>\n",
       "      <td>Abbott, Edith.</td>\n",
       "      <td>2</td>\n",
       "    </tr>\n",
       "    <tr>\n",
       "      <th>10</th>\n",
       "      <td>Abbott, Grace 1878-1939</td>\n",
       "      <td>22</td>\n",
       "    </tr>\n",
       "  </tbody>\n",
       "</table>\n",
       "</div>"
      ],
      "text/plain": [
       "                                   chicago person  count\n",
       "121                        Elizabeth Gurley Flynn      0\n",
       "78                       Abbott, Edith 1876-1957      96\n",
       "17   Abbott, Edith 1876-1957. [from old catalog]       1\n",
       "132                               Abbott, Edith.       2\n",
       "10                       Abbott, Grace 1878-1939      22"
      ]
     },
     "execution_count": 253,
     "metadata": {},
     "output_type": "execute_result"
    }
   ],
   "source": [
    "chi_auth_results = pd.DataFrame.from_dict(chi_auth_dict, orient='index')\n",
    "chi_auth_results = chi_auth_results.reset_index()\n",
    "chi_auth_results.columns = ['chicago person','count']\n",
    "chi_auth_results = chi_auth_results.sort_values('chicago person', ascending=True)\n",
    "chi_auth_results.to_csv('chi_auth_results_check.csv')\n",
    "chi_auth_results.head()"
   ]
  },
  {
   "cell_type": "code",
   "execution_count": null,
   "metadata": {
    "collapsed": true
   },
   "outputs": [],
   "source": []
  }
 ],
 "metadata": {
  "anaconda-cloud": {},
  "kernelspec": {
   "display_name": "Python [conda root]",
   "language": "python",
   "name": "conda-root-py"
  },
  "language_info": {
   "codemirror_mode": {
    "name": "ipython",
    "version": 3
   },
   "file_extension": ".py",
   "mimetype": "text/x-python",
   "name": "python",
   "nbconvert_exporter": "python",
   "pygments_lexer": "ipython3",
   "version": "3.5.3"
  }
 },
 "nbformat": 4,
 "nbformat_minor": 1
}
