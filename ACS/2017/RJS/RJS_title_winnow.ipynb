{
 "cells": [
  {
   "cell_type": "code",
   "execution_count": 1,
   "metadata": {
    "collapsed": true
   },
   "outputs": [],
   "source": [
    "import pandas as pd\n",
    "import numpy as np\n",
    "import csv"
   ]
  },
  {
   "cell_type": "code",
   "execution_count": 2,
   "metadata": {
    "collapsed": false,
    "scrolled": false
   },
   "outputs": [
    {
     "name": "stdout",
     "output_type": "stream",
     "text": [
      "1093\n"
     ]
    },
    {
     "name": "stderr",
     "output_type": "stream",
     "text": [
      "/Users/rdubnic2/anaconda/lib/python3.5/site-packages/ipykernel/__main__.py:1: ParserWarning: Falling back to the 'python' engine because the 'c' engine does not support sep=None with delim_whitespace=False; you can avoid this warning by specifying engine='python'.\n",
      "  if __name__ == '__main__':\n"
     ]
    }
   ],
   "source": [
    "small_press = pd.read_csv('/Users/rdubnic2/Desktop/smallpress_allnovels_2.csv', sep=None)\n",
    "# small_press.head()\n",
    "\n",
    "small_press_titles = pd.Series.tolist(small_press['TITLE'])\n",
    "print(len(small_press_titles))"
   ]
  },
  {
   "cell_type": "code",
   "execution_count": 8,
   "metadata": {
    "collapsed": false
   },
   "outputs": [
    {
     "name": "stdout",
     "output_type": "stream",
     "text": [
      "2953\n"
     ]
    }
   ],
   "source": [
    "rh = pd.read_csv('/Users/rdubnic2/Desktop/RH_NOVELS_FINAL.csv')\n",
    "# rh.head()\n",
    "\n",
    "rh_titles = pd.Series.tolist(rh['TITLE'])\n",
    "print(len(rh_titles))"
   ]
  },
  {
   "cell_type": "code",
   "execution_count": 7,
   "metadata": {
    "collapsed": false
   },
   "outputs": [
    {
     "name": "stderr",
     "output_type": "stream",
     "text": [
      "/Users/rdubnic2/anaconda/lib/python3.5/site-packages/ipykernel/__main__.py:1: ParserWarning: Falling back to the 'python' engine because the 'c' engine does not support sep=None with delim_whitespace=False; you can avoid this warning by specifying engine='python'.\n",
      "  if __name__ == '__main__':\n"
     ]
    },
    {
     "name": "stdout",
     "output_type": "stream",
     "text": [
      "1048575\n"
     ]
    }
   ],
   "source": [
    "ht_all = pd.read_csv('/Users/rdubnic2/Desktop/hathi_1950_2000_all_texts_2.csv', sep=None)\n",
    "# ht_all.head()\n",
    "\n",
    "ht_all_titles = pd.Series.tolist(ht_all['TITLE'])\n",
    "print(len(ht_all_titles))"
   ]
  },
  {
   "cell_type": "code",
   "execution_count": 6,
   "metadata": {
    "collapsed": false
   },
   "outputs": [
    {
     "name": "stdout",
     "output_type": "stream",
     "text": [
      "4046\n"
     ]
    }
   ],
   "source": [
    "all_titles = small_press_titles + rh_titles\n",
    "\n",
    "print(len(all_titles))\n",
    "# all_titles"
   ]
  },
  {
   "cell_type": "code",
   "execution_count": null,
   "metadata": {
    "collapsed": true
   },
   "outputs": [],
   "source": [
    "# for i in ch_df.index:\n",
    "#         bookname = ch_df['bookname'][i]\n",
    "#         title_list.append(bookname)\n",
    "# titles = set(title_list)\n",
    "# for title in titles:\n",
    "#     print(title)"
   ]
  },
  {
   "cell_type": "code",
   "execution_count": null,
   "metadata": {
    "collapsed": false
   },
   "outputs": [
    {
     "name": "stdout",
     "output_type": "stream",
     "text": [
      "Shape of DF before winnow  (1048575, 7)\n"
     ]
    }
   ],
   "source": [
    "ht_all_copy = ht_all\n",
    "\n",
    "print('Shape of DF before winnow ', ht_all_copy.shape)\n",
    "\n",
    "for i in ht_all_copy.index:\n",
    "    title = ht_all_copy['TITLE'][i]\n",
    "    if title not in all_titles:\n",
    "        ht_all_copy.drop([i])\n",
    "\n",
    "print('Shape of DF after winnow ', ht_all_copy.shape)"
   ]
  },
  {
   "cell_type": "code",
   "execution_count": null,
   "metadata": {
    "collapsed": true
   },
   "outputs": [],
   "source": []
  }
 ],
 "metadata": {
  "anaconda-cloud": {},
  "kernelspec": {
   "display_name": "Python [conda root]",
   "language": "python",
   "name": "conda-root-py"
  },
  "language_info": {
   "codemirror_mode": {
    "name": "ipython",
    "version": 3
   },
   "file_extension": ".py",
   "mimetype": "text/x-python",
   "name": "python",
   "nbconvert_exporter": "python",
   "pygments_lexer": "ipython3",
   "version": "3.5.3"
  }
 },
 "nbformat": 4,
 "nbformat_minor": 1
}
